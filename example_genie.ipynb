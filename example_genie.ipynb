{
 "cells": [
  {
   "cell_type": "markdown",
   "metadata": {},
   "source": [
    "# [Genieclust](https://github.com/gagolews/genieclust) Tutorial\n",
    "## The Genie Algorithm\n",
    "\n",
    "Author: [Marek Gagolewski](http://www.gagolewski.com)"
   ]
  },
  {
   "cell_type": "code",
   "execution_count": null,
   "metadata": {},
   "outputs": [],
   "source": [
    "# @TODO@: load a benchmark set\n",
    "# @TODO@: compute with fit_predict(X), g=0.3,0.5,1.0\n",
    "# @TODO@: plot with plot_scatter()\n",
    "# @TODO@: report the Gini index of cluster labels\n",
    "# @TODO@: compare with the reference partition\n",
    "\n",
    "# @TODO@: also show the MST-based interface"
   ]
  }
 ],
 "metadata": {
  "kernelspec": {
   "display_name": "Python 3",
   "language": "python",
   "name": "python3"
  },
  "language_info": {
   "codemirror_mode": {
    "name": "ipython",
    "version": 3
   },
   "file_extension": ".py",
   "mimetype": "text/x-python",
   "name": "python",
   "nbconvert_exporter": "python",
   "pygments_lexer": "ipython3",
   "version": "3.6.5"
  }
 },
 "nbformat": 4,
 "nbformat_minor": 2
}
